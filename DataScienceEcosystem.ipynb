{
 "cells": [
  {
   "cell_type": "markdown",
   "id": "49c3db26-bcc9-4a7f-a96a-249fcc390089",
   "metadata": {},
   "source": [
    "# Data Science Tools and Ecosystem"
   ]
  },
  {
   "cell_type": "markdown",
   "id": "a64d3664-cbab-4b78-bda9-df21f64aa907",
   "metadata": {},
   "source": [
    "In this notebook, Data Science Tools and Ecosystem are summarized."
   ]
  },
  {
   "cell_type": "markdown",
   "id": "ddec4f06-6547-4300-8cac-ea87ea4d5c36",
   "metadata": {},
   "source": [
    "Some of the popular languages that Data Scientists use are:"
   ]
  },
  {
   "cell_type": "code",
   "execution_count": 1,
   "id": "24ef442d-8924-4f52-b5d8-26e9f3c9ab85",
   "metadata": {},
   "outputs": [],
   "source": [
    "my_dict = {}\n",
    "my_dict[\"R\"] = \"\"\n",
    "my_dict[\"Python\"] = \"\"\n",
    "my_dict[\"SQL\"] = \"\""
   ]
  },
  {
   "cell_type": "code",
   "execution_count": 2,
   "id": "d52f879f-c452-41d9-b39e-53ba35d9638e",
   "metadata": {},
   "outputs": [],
   "source": [
    "ordered_list = list(my_dict.keys())"
   ]
  },
  {
   "cell_type": "code",
   "execution_count": 3,
   "id": "b8140ec5-5e24-49da-8e44-b5fa89f86f04",
   "metadata": {},
   "outputs": [
    {
     "name": "stdout",
     "output_type": "stream",
     "text": [
      "['R', 'Python', 'SQL']\n"
     ]
    }
   ],
   "source": [
    "print(ordered_list)"
   ]
  },
  {
   "cell_type": "markdown",
   "id": "1694fb56-7766-4217-9657-62fec18aa4a9",
   "metadata": {},
   "source": [
    "Some of the commonly used libraries used by Data Scientists include:"
   ]
  },
  {
   "cell_type": "code",
   "execution_count": 4,
   "id": "f68f8aa9-bfbf-4194-8053-536097f6edcd",
   "metadata": {},
   "outputs": [],
   "source": [
    "my_dict2 = {}\n",
    "my_dict2[\"dplyr\"] = \"\"\n",
    "my_dict2[\"pandas\"] = \"\"\n",
    "my_dict2[\"scikit-learn\"] = \"\""
   ]
  },
  {
   "cell_type": "code",
   "execution_count": 5,
   "id": "34fdff6a-6dc3-48ac-ab7b-a3b947bb84ab",
   "metadata": {},
   "outputs": [],
   "source": [
    "ordered_list2 = list(my_dict2.keys())"
   ]
  },
  {
   "cell_type": "code",
   "execution_count": 10,
   "id": "97bb6a19-05ad-48d5-a3fc-0e0816fde985",
   "metadata": {},
   "outputs": [
    {
     "name": "stdout",
     "output_type": "stream",
     "text": [
      "['dplyr', 'pandas', 'scikit-learn']\n"
     ]
    }
   ],
   "source": [
    "print(ordered_list2)"
   ]
  },
  {
   "cell_type": "code",
   "execution_count": 7,
   "id": "d6e0c3de-aabe-4355-9f66-88417aa2c283",
   "metadata": {},
   "outputs": [
    {
     "name": "stdout",
     "output_type": "stream",
     "text": [
      "# example_table\n",
      "|Data Science Tools|\n",
      "|------------------|\n",
      "|R Studio          |\n",
      "|Jupyter Notebooks |\n",
      "|Jupyter Lab       |\n"
     ]
    }
   ],
   "source": [
    "from pytablewriter import MarkdownTableWriter\n",
    "\n",
    "writer = MarkdownTableWriter(\n",
    "    table_name=\"example_table\",\n",
    "    headers=[\"Data Science Tools\"],\n",
    "    value_matrix=[\n",
    "        [\"R Studio\"],\n",
    "        [\"Jupyter Notebooks\"],\n",
    "        [\"Jupyter Lab\"],\n",
    "    ],\n",
    ")\n",
    "writer.write_table()\n"
   ]
  },
  {
   "cell_type": "markdown",
   "id": "f873b098-062e-44c6-bd36-21934aa221e8",
   "metadata": {},
   "source": [
    "### Below are a few examples of evaluating arithmetic expressions in Python"
   ]
  },
  {
   "cell_type": "code",
   "execution_count": 12,
   "id": "2ba1cee8-2bdb-4530-b8a6-0ba78ef24ded",
   "metadata": {
    "scrolled": true
   },
   "outputs": [
    {
     "name": "stdout",
     "output_type": "stream",
     "text": [
      "7\n",
      "-1\n"
     ]
    },
    {
     "data": {
      "text/plain": [
       "2.6666666666666665"
      ]
     },
     "execution_count": 12,
     "metadata": {},
     "output_type": "execute_result"
    }
   ],
   "source": [
    "print(3+4)\n",
    "print(6-7)\n",
    "8/3"
   ]
  },
  {
   "cell_type": "code",
   "execution_count": 8,
   "id": "bfda1fb4-aa6c-4ee5-bf33-1b30b17b7de1",
   "metadata": {},
   "outputs": [
    {
     "data": {
      "text/plain": [
       "17"
      ]
     },
     "execution_count": 8,
     "metadata": {},
     "output_type": "execute_result"
    }
   ],
   "source": [
    "#This a simple arithmetic expression to mutiply then add integers\n",
    "(3*4)+5"
   ]
  },
  {
   "cell_type": "code",
   "execution_count": 9,
   "id": "6a692fec-6f61-462f-8fd9-b258f8c5ba04",
   "metadata": {},
   "outputs": [
    {
     "name": "stdout",
     "output_type": "stream",
     "text": [
      "120\n"
     ]
    }
   ],
   "source": [
    "hours = 2\n",
    "minutes = hours * 60\n",
    "print(minutes)"
   ]
  },
  {
   "cell_type": "markdown",
   "id": "dca4c332-7e42-46c6-91d3-920c6a8e4ff4",
   "metadata": {},
   "source": [
    "**Objectives**\n",
    "\n",
    "* Practice using markdown\n",
    "* Combine comments with mathematical expressions\n",
    "* Create a table"
   ]
  },
  {
   "cell_type": "markdown",
   "id": "e4294e98-92c9-40fe-bd9e-c79f969487ff",
   "metadata": {},
   "source": [
    "## Author \n",
    "\n",
    "S M"
   ]
  },
  {
   "cell_type": "code",
   "execution_count": null,
   "id": "b298dd15-d266-401c-976d-3144d9a4276e",
   "metadata": {},
   "outputs": [],
   "source": []
  }
 ],
 "metadata": {
  "kernelspec": {
   "display_name": "Python 3 (ipykernel)",
   "language": "python",
   "name": "python3"
  },
  "language_info": {
   "codemirror_mode": {
    "name": "ipython",
    "version": 3
   },
   "file_extension": ".py",
   "mimetype": "text/x-python",
   "name": "python",
   "nbconvert_exporter": "python",
   "pygments_lexer": "ipython3",
   "version": "3.13.1"
  }
 },
 "nbformat": 4,
 "nbformat_minor": 5
}
